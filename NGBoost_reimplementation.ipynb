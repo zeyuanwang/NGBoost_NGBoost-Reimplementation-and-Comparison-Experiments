{
 "cells": [
  {
   "cell_type": "code",
   "execution_count": 12,
   "metadata": {},
   "outputs": [],
   "source": [
    "import numpy as np\n",
    "import scipy as sp\n",
    "import pandas as pd \n",
    "from sklearn.tree import DecisionTreeRegressor\n",
    "from sklearn.model_selection import train_test_split\n",
    "from sklearn.metrics import mean_squared_error\n",
    "import matplotlib.pyplot as plt\n",
    "import seaborn as sns\n",
    "import scipy.stats as stats\n",
    "\n",
    "from ngboost.ngboost import NGBoost\n",
    "from ngboost.learners import default_tree_learner\n",
    "from ngboost.distns import Normal\n",
    "from ngboost.scores import MLE"
   ]
  },
  {
   "cell_type": "code",
   "execution_count": 13,
   "metadata": {},
   "outputs": [],
   "source": [
    "class My_NGBoost(object):\n",
    "    def __init__(self, n_estimators = 1000, learning_rate = 0.01):\n",
    "        self.n_estimators = n_estimators\n",
    "        self.learning_rate = learning_rate\n",
    "        self.init_params = None\n",
    "        self.base_models = list()\n",
    "        self.scalings = list()\n",
    "\n",
    "    def boost(self, X, grads):\n",
    "        models = [DecisionTreeRegressor(max_depth = 3).fit(X, g) for g in grads.T]\n",
    "        self.base_models.append(models)\n",
    "        return np.array([m.predict(X) for m in models]).T\n",
    "    \n",
    "    def predict(self, X):\n",
    "        params = np.ones((X.shape[0], 2)) * self.init_params\n",
    "        for i, (models, s) in enumerate(zip(self.base_models, self.scalings)):\n",
    "            params -= self.learning_rate * np.array([model.predict(X) for model in models]).T * s\n",
    "        return list(np.asarray(params).T[0].flatten())\n",
    "    \n",
    "    def line_search(self, resids, start, Y):\n",
    "        scale = 1\n",
    "        loss_init = -sp.stats.norm(loc = start.T[0], scale = np.exp(start.T[1])).logpdf(Y.squeeze()).mean()\n",
    "        loss = -sp.stats.norm(loc = (start - resids).T[0], scale = np.exp((start - resids).T[1])).logpdf(Y.squeeze()).mean()\n",
    "\n",
    "        while np.isnan(loss) or (loss >= loss_init and np.mean(np.linalg.norm(resids, axis=1)) >= 1e-6) or np.linalg.norm(resids, axis=1).mean() >= 5.0:\n",
    "            scale /= 2\n",
    "            resids /= 2\n",
    "            loss = -sp.stats.norm(loc = (start - resids).T[0], scale = np.exp((start - resids).T[1])).logpdf(Y.squeeze()).mean()\n",
    "            \n",
    "        self.scalings.append(scale)\n",
    "        return scale\n",
    "    \n",
    "    def fit(self, X, Y):\n",
    "        m, s = sp.stats.norm.fit(Y)\n",
    "        self.init_params = np.array([m, np.log(s)])\n",
    "\n",
    "        params = np.ones((X.shape[0], 2)) * self.init_params\n",
    "        for i, (models, s) in enumerate(zip(self.base_models, self.scalings)):\n",
    "            params -= self.learning_rate * np.array([model.predict(X) for model in models]).T * s\n",
    "\n",
    "        for i in range(self.n_estimators):\n",
    "            loc = params.T[0]\n",
    "            var = np.exp(params.T[1]) ** 2\n",
    "        \n",
    "            loss = -sp.stats.norm(loc = loc, scale = np.exp(params.T[1])).logpdf(Y.squeeze()).mean()\n",
    "            \n",
    "            fisher = np.zeros((var.shape[0], 2, 2))\n",
    "            fisher[:, 0, 0] = 1 / var + 1e-6\n",
    "            fisher[:, 1, 1] = 2\n",
    "            \n",
    "            grads = np.zeros((len(Y), 2))\n",
    "            grads[:, 0] = (loc - Y) / var\n",
    "            grads[:, 1] = 1 - ((loc - Y) ** 2) / var\n",
    "            grads = np.linalg.solve(fisher, grads)\n",
    "    \n",
    "            proj_grad = self.boost(X, grads)\n",
    "            scale = self.line_search(proj_grad, params, Y)\n",
    "\n",
    "            params -= self.learning_rate * scale * np.array([m.predict(X) for m in self.base_models[-1]]).T\n",
    "\n",
    "            if i % 100 == 0 or i == self.n_estimators - 1 or np.linalg.norm(proj_grad, axis=1).mean() < 1e-6:\n",
    "                grad_norm = np.linalg.norm(grads, axis=1).mean() * scale\n",
    "                print(f\"iter = {i + 1},\\t loss = {loss},\\t scale = {scale},\\t grad_norm = {grad_norm}\")\n",
    "                if np.linalg.norm(proj_grad, axis=1).mean() < 1e-6:\n",
    "                    break\n",
    "        return self"
   ]
  },
  {
   "cell_type": "code",
   "execution_count": 14,
   "metadata": {},
   "outputs": [],
   "source": [
    "def rmsle(y, y_pred):\n",
    "    return np.sqrt(mean_squared_error(y, y_pred))"
   ]
  },
  {
   "cell_type": "code",
   "execution_count": 15,
   "metadata": {},
   "outputs": [],
   "source": [
    "# Normal Distribution\n",
    "X = np.random.rand(1000, 10)\n",
    "w_mu = np.random.rand(10)\n",
    "w_sigma = np.random.rand(10)\n",
    "mu = np.dot(X, w_mu)\n",
    "sigma = np.dot(X, w_sigma) # 对数正态分布\n",
    "Y = np.random.rand(1000) * sigma + mu"
   ]
  },
  {
   "cell_type": "code",
   "execution_count": 16,
   "metadata": {},
   "outputs": [
    {
     "data": {
      "text/plain": [
       "<matplotlib.axes._subplots.AxesSubplot at 0x7f73de8520f0>"
      ]
     },
     "execution_count": 16,
     "metadata": {},
     "output_type": "execute_result"
    },
    {
     "data": {
      "image/png": "[encoded data removed]",
      "text/plain": [
       "<Figure size 432x288 with 1 Axes>"
      ]
     },
     "metadata": {
      "needs_background": "light"
     },
     "output_type": "display_data"
    }
   ],
   "source": [
    "sns.distplot(Y, kde = True, fit = stats.norm, fit_kws = {'color':'r'}, axlabel = \"Y\")"
   ]
  },
  {
   "cell_type": "code",
   "execution_count": 17,
   "metadata": {},
   "outputs": [],
   "source": [
    "Xp = pd.DataFrame(X)\n",
    "Xp['10'] = Y\n",
    "tr, te = train_test_split(Xp, test_size = 0.2, random_state = 1)\n",
    "\n",
    "y_tr = np.asarray(tr['10'])\n",
    "tr = np.asarray(tr.drop(['10'], 1))\n",
    "y_te =  np.asarray(te['10'])\n",
    "te = np.asarray(te.drop(['10'], 1))"
   ]
  },
  {
   "cell_type": "code",
   "execution_count": 18,
   "metadata": {
    "scrolled": true
   },
   "outputs": [
    {
     "name": "stdout",
     "output_type": "stream",
     "text": [
      "iter = 1,\t loss = 1.5970815915908319,\t scale = 1,\t grad_norm = 1.1442533847075165\n",
      "iter = 101,\t loss = 1.3924148444742372,\t scale = 1,\t grad_norm = 0.9599499607009426\n",
      "iter = 201,\t loss = 1.2575576285438128,\t scale = 1,\t grad_norm = 0.8714581344291414\n",
      "iter = 301,\t loss = 1.1543041516440404,\t scale = 1,\t grad_norm = 0.816300950871107\n",
      "iter = 401,\t loss = 1.071871836207619,\t scale = 1,\t grad_norm = 0.7766374326798029\n",
      "iter = 501,\t loss = 1.0030625511707194,\t scale = 1,\t grad_norm = 0.7463283964340272\n",
      "iter = 601,\t loss = 0.9463222132327754,\t scale = 1,\t grad_norm = 0.7222834490955802\n",
      "iter = 701,\t loss = 0.8993700376220707,\t scale = 1,\t grad_norm = 0.7044796737236086\n",
      "iter = 801,\t loss = 0.8587690409277843,\t scale = 1,\t grad_norm = 0.6898640733355933\n",
      "iter = 901,\t loss = 0.8261344885304694,\t scale = 1,\t grad_norm = 0.67903548879139\n",
      "iter = 1001,\t loss = 0.7943666462331571,\t scale = 1,\t grad_norm = 0.6681918332616634\n",
      "iter = 1101,\t loss = 0.763852953211136,\t scale = 1,\t grad_norm = 0.6578578263626528\n",
      "iter = 1201,\t loss = 0.7337727945113395,\t scale = 1,\t grad_norm = 0.6475754701048723\n",
      "iter = 1301,\t loss = 0.7057578168124897,\t scale = 1,\t grad_norm = 0.6387836286808566\n",
      "iter = 1401,\t loss = 0.6794259859701861,\t scale = 1,\t grad_norm = 0.6305997269888582\n",
      "iter = 1501,\t loss = 0.6533150361849732,\t scale = 1,\t grad_norm = 0.6225809116080187\n",
      "iter = 1601,\t loss = 0.6309971429671188,\t scale = 1,\t grad_norm = 0.6154402572837625\n",
      "iter = 1701,\t loss = 0.6088784283593864,\t scale = 0.5,\t grad_norm = 0.30431626173721726\n",
      "iter = 1801,\t loss = 0.5885393249922616,\t scale = 1,\t grad_norm = 0.601471974372201\n",
      "iter = 1901,\t loss = 0.5659981937995465,\t scale = 1,\t grad_norm = 0.5931118604183087\n",
      "iter = 2001,\t loss = 0.5422534451244485,\t scale = 0.25,\t grad_norm = 0.14634622199370365\n",
      "iter = 2101,\t loss = 0.5208023258341618,\t scale = 1,\t grad_norm = 0.5779812629292747\n",
      "iter = 2201,\t loss = 0.5061426123600482,\t scale = 0.5,\t grad_norm = 0.2867584444660635\n",
      "iter = 2301,\t loss = 0.490333505716535,\t scale = 1,\t grad_norm = 0.5678513156295751\n",
      "iter = 2401,\t loss = 0.4679029919123643,\t scale = 0.5,\t grad_norm = 0.2798220450513246\n",
      "iter = 2501,\t loss = 0.4606070590900322,\t scale = 0.000244140625,\t grad_norm = 0.0001360698505483739\n",
      "iter = 2601,\t loss = 0.46060705421354725,\t scale = 0.0001220703125,\t grad_norm = 6.803453817414034e-05\n",
      "iter = 2701,\t loss = 0.46060705389468937,\t scale = 3.0517578125e-05,\t grad_norm = 1.7008610187844063e-05\n",
      "iter = 2703,\t loss = 0.4606070538930468,\t scale = 1.52587890625e-05,\t grad_norm = 8.504304935789119e-06\n"
     ]
    },
    {
     "data": {
      "text/plain": [
       "<__main__.My_NGBoost at 0x7f73de6ce6d8>"
      ]
     },
     "execution_count": 18,
     "metadata": {},
     "output_type": "execute_result"
    }
   ],
   "source": [
    "boost = My_NGBoost(n_estimators = 10000)\n",
    "boost.fit(tr, y_tr)"
   ]
  },
  {
   "cell_type": "code",
   "execution_count": 19,
   "metadata": {},
   "outputs": [
    {
     "data": {
      "text/plain": [
       "1.0011817983211273"
      ]
     },
     "execution_count": 19,
     "metadata": {},
     "output_type": "execute_result"
    }
   ],
   "source": [
    "rmsle(y_te, boost.predict(np.array(te)))"
   ]
  },
  {
   "cell_type": "code",
   "execution_count": 20,
   "metadata": {},
   "outputs": [
    {
     "data": {
      "text/plain": [
       "<matplotlib.axes._subplots.AxesSubplot at 0x7f73de4adc88>"
      ]
     },
     "execution_count": 20,
     "metadata": {},
     "output_type": "execute_result"
    },
    {
     "data": {
      "image/png": "[encoded data removed]",
      "text/plain": [
       "<Figure size 432x288 with 1 Axes>"
      ]
     },
     "metadata": {
      "needs_background": "light"
     },
     "output_type": "display_data"
    }
   ],
   "source": [
    "sns.distplot(y_te, axlabel = \"Y_test\")"
   ]
  },
  {
   "cell_type": "code",
   "execution_count": 21,
   "metadata": {},
   "outputs": [
    {
     "data": {
      "text/plain": [
       "<matplotlib.axes._subplots.AxesSubplot at 0x7f73de3e83c8>"
      ]
     },
     "execution_count": 21,
     "metadata": {},
     "output_type": "execute_result"
    },
    {
     "data": {
      "image/png": "[encoded data removed]",
      "text/plain": [
       "<Figure size 432x288 with 1 Axes>"
      ]
     },
     "metadata": {
      "needs_background": "light"
     },
     "output_type": "display_data"
    }
   ],
   "source": [
    "sns.distplot(boost.predict(np.array(te)), axlabel = \"pred_Y_test\")"
   ]
  },
  {
   "cell_type": "code",
   "execution_count": 22,
   "metadata": {
    "scrolled": true
   },
   "outputs": [
    {
     "name": "stdout",
     "output_type": "stream",
     "text": [
      "[iter 0] loss=1.5971 val_loss=0.0000 scale=1.0000 norm=1.1442\n",
      "[iter 100] loss=1.3924 val_loss=0.0000 scale=1.0000 norm=0.9599\n",
      "[iter 200] loss=1.2576 val_loss=0.0000 scale=1.0000 norm=0.8715\n",
      "[iter 300] loss=1.1543 val_loss=0.0000 scale=1.0000 norm=0.8163\n",
      "[iter 400] loss=1.0719 val_loss=0.0000 scale=1.0000 norm=0.7766\n",
      "[iter 500] loss=1.0031 val_loss=0.0000 scale=1.0000 norm=0.7463\n",
      "[iter 600] loss=0.9463 val_loss=0.0000 scale=1.0000 norm=0.7223\n",
      "[iter 700] loss=0.8994 val_loss=0.0000 scale=1.0000 norm=0.7045\n",
      "[iter 800] loss=0.8588 val_loss=0.0000 scale=1.0000 norm=0.6899\n",
      "[iter 900] loss=0.8262 val_loss=0.0000 scale=1.0000 norm=0.6790\n",
      "[iter 1000] loss=0.7944 val_loss=0.0000 scale=1.0000 norm=0.6682\n",
      "[iter 1100] loss=0.7638 val_loss=0.0000 scale=1.0000 norm=0.6577\n",
      "[iter 1200] loss=0.7331 val_loss=0.0000 scale=1.0000 norm=0.6474\n",
      "[iter 1300] loss=0.7052 val_loss=0.0000 scale=1.0000 norm=0.6389\n",
      "[iter 1400] loss=0.6769 val_loss=0.0000 scale=1.0000 norm=0.6296\n",
      "[iter 1500] loss=0.6538 val_loss=0.0000 scale=0.5000 norm=0.3115\n",
      "[iter 1600] loss=0.6289 val_loss=0.0000 scale=1.0000 norm=0.6146\n",
      "[iter 1700] loss=0.6050 val_loss=0.0000 scale=1.0000 norm=0.6072\n",
      "[iter 1800] loss=0.5827 val_loss=0.0000 scale=1.0000 norm=0.5989\n",
      "[iter 1900] loss=0.5594 val_loss=0.0000 scale=1.0000 norm=0.5913\n",
      "[iter 2000] loss=0.5325 val_loss=0.0000 scale=1.0000 norm=0.5827\n",
      "[iter 2100] loss=0.5113 val_loss=0.0000 scale=0.2500 norm=0.1441\n",
      "[iter 2200] loss=0.4878 val_loss=0.0000 scale=1.0000 norm=0.5685\n",
      "[iter 2300] loss=0.4654 val_loss=0.0000 scale=1.0000 norm=0.5600\n",
      "[iter 2400] loss=0.4468 val_loss=0.0000 scale=0.2500 norm=0.1384\n",
      "[iter 2500] loss=0.4301 val_loss=0.0000 scale=1.0000 norm=0.5478\n",
      "[iter 2600] loss=0.4131 val_loss=0.0000 scale=1.0000 norm=0.5422\n",
      "[iter 2700] loss=0.4007 val_loss=0.0000 scale=1.0000 norm=0.5383\n",
      "[iter 2800] loss=0.3954 val_loss=0.0000 scale=0.5000 norm=0.2685\n",
      "[iter 2900] loss=0.3905 val_loss=0.0000 scale=0.0020 norm=0.0010\n",
      "[iter 3000] loss=0.3900 val_loss=0.0000 scale=0.0020 norm=0.0010\n",
      "[iter 3100] loss=0.3877 val_loss=0.0000 scale=0.0020 norm=0.0010\n",
      "[iter 3200] loss=0.3851 val_loss=0.0000 scale=0.0020 norm=0.0010\n",
      "[iter 3300] loss=0.3822 val_loss=0.0000 scale=0.0020 norm=0.0010\n",
      "[iter 3400] loss=0.3795 val_loss=0.0000 scale=0.0020 norm=0.0010\n",
      "[iter 3500] loss=0.3773 val_loss=0.0000 scale=1.0000 norm=0.5319\n",
      "[iter 3600] loss=0.3744 val_loss=0.0000 scale=0.0020 norm=0.0010\n",
      "[iter 3700] loss=0.3720 val_loss=0.0000 scale=0.0020 norm=0.0010\n",
      "[iter 3800] loss=0.3687 val_loss=0.0000 scale=0.1250 norm=0.0662\n",
      "[iter 3900] loss=0.3675 val_loss=0.0000 scale=0.0020 norm=0.0010\n",
      "[iter 4000] loss=0.3650 val_loss=0.0000 scale=0.5000 norm=0.2644\n",
      "[iter 4100] loss=0.3621 val_loss=0.0000 scale=0.0010 norm=0.0005\n",
      "[iter 4200] loss=0.3621 val_loss=0.0000 scale=0.0010 norm=0.0005\n",
      "[iter 4300] loss=0.3621 val_loss=0.0000 scale=0.0010 norm=0.0005\n",
      "[iter 4400] loss=0.3605 val_loss=0.0000 scale=0.0010 norm=0.0005\n",
      "[iter 4500] loss=0.3605 val_loss=0.0000 scale=0.0010 norm=0.0005\n",
      "[iter 4600] loss=0.3605 val_loss=0.0000 scale=0.0010 norm=0.0005\n",
      "[iter 4700] loss=0.3599 val_loss=0.0000 scale=0.0010 norm=0.0005\n",
      "[iter 4800] loss=0.3599 val_loss=0.0000 scale=0.5000 norm=0.2638\n",
      "[iter 4900] loss=0.3598 val_loss=0.0000 scale=0.0010 norm=0.0005\n",
      "[iter 5000] loss=0.3560 val_loss=0.0000 scale=0.0020 norm=0.0010\n",
      "[iter 5100] loss=0.3544 val_loss=0.0000 scale=0.5000 norm=0.2632\n",
      "[iter 5200] loss=0.3521 val_loss=0.0000 scale=0.0020 norm=0.0010\n",
      "[iter 5300] loss=0.3515 val_loss=0.0000 scale=0.0020 norm=0.0010\n",
      "[iter 5400] loss=0.3514 val_loss=0.0000 scale=0.0020 norm=0.0010\n",
      "[iter 5500] loss=0.3512 val_loss=0.0000 scale=0.0010 norm=0.0005\n",
      "[iter 5600] loss=0.3510 val_loss=0.0000 scale=0.0010 norm=0.0005\n",
      "[iter 5700] loss=0.3510 val_loss=0.0000 scale=0.0010 norm=0.0005\n",
      "[iter 5800] loss=0.3507 val_loss=0.0000 scale=1.0000 norm=0.5255\n",
      "[iter 5900] loss=0.3473 val_loss=0.0000 scale=0.0010 norm=0.0005\n",
      "[iter 6000] loss=0.3473 val_loss=0.0000 scale=0.0010 norm=0.0005\n",
      "[iter 6100] loss=0.3472 val_loss=0.0000 scale=0.0010 norm=0.0005\n",
      "[iter 6200] loss=0.3442 val_loss=0.0000 scale=0.0010 norm=0.0005\n",
      "[iter 6300] loss=0.3442 val_loss=0.0000 scale=0.0010 norm=0.0005\n",
      "[iter 6400] loss=0.3428 val_loss=0.0000 scale=0.0010 norm=0.0005\n",
      "[iter 6500] loss=0.3428 val_loss=0.0000 scale=0.0010 norm=0.0005\n",
      "[iter 6600] loss=0.3273 val_loss=0.0000 scale=0.5000 norm=0.2590\n",
      "[iter 6700] loss=0.3116 val_loss=0.0000 scale=0.5000 norm=0.2564\n",
      "[iter 6800] loss=0.2931 val_loss=0.0000 scale=0.5000 norm=0.2528\n",
      "[iter 6900] loss=0.2900 val_loss=0.0000 scale=0.0010 norm=0.0005\n",
      "[iter 7000] loss=0.2874 val_loss=0.0000 scale=0.5000 norm=0.2520\n",
      "[iter 7100] loss=0.2765 val_loss=0.0000 scale=0.5000 norm=0.2508\n",
      "[iter 7200] loss=0.2648 val_loss=0.0000 scale=0.2500 norm=0.1248\n",
      "[iter 7300] loss=0.2530 val_loss=0.0000 scale=0.0312 norm=0.0155\n",
      "[iter 7400] loss=0.2428 val_loss=0.0000 scale=0.2500 norm=0.1239\n",
      "[iter 7500] loss=0.2295 val_loss=0.0000 scale=0.2500 norm=0.1231\n",
      "[iter 7600] loss=0.2182 val_loss=0.0000 scale=0.0020 norm=0.0010\n",
      "[iter 7700] loss=0.2167 val_loss=0.0000 scale=0.0020 norm=0.0010\n",
      "[iter 7800] loss=0.2136 val_loss=0.0000 scale=0.5000 norm=0.2447\n",
      "[iter 7900] loss=0.2083 val_loss=0.0000 scale=0.0020 norm=0.0010\n",
      "[iter 8000] loss=0.2068 val_loss=0.0000 scale=0.0020 norm=0.0010\n",
      "[iter 8100] loss=0.2053 val_loss=0.0000 scale=0.0020 norm=0.0010\n",
      "[iter 8200] loss=0.2038 val_loss=0.0000 scale=0.0020 norm=0.0010\n",
      "[iter 8300] loss=0.1993 val_loss=0.0000 scale=0.5000 norm=0.2435\n",
      "[iter 8400] loss=0.1961 val_loss=0.0000 scale=0.0020 norm=0.0010\n",
      "[iter 8500] loss=0.1940 val_loss=0.0000 scale=0.0020 norm=0.0009\n",
      "[iter 8600] loss=0.1940 val_loss=0.0000 scale=0.0020 norm=0.0009\n",
      "[iter 8700] loss=0.1899 val_loss=0.0000 scale=1.0000 norm=0.4856\n",
      "[iter 8800] loss=0.1794 val_loss=0.0000 scale=0.0312 norm=0.0151\n",
      "[iter 8900] loss=0.1685 val_loss=0.0000 scale=0.0156 norm=0.0075\n",
      "[iter 9000] loss=0.1660 val_loss=0.0000 scale=0.0020 norm=0.0009\n",
      "[iter 9100] loss=0.1618 val_loss=0.0000 scale=0.1250 norm=0.0599\n",
      "[iter 9200] loss=0.1537 val_loss=0.0000 scale=0.5000 norm=0.2389\n",
      "[iter 9300] loss=0.1507 val_loss=0.0000 scale=0.0020 norm=0.0009\n",
      "[iter 9400] loss=0.1470 val_loss=0.0000 scale=0.0020 norm=0.0009\n",
      "[iter 9500] loss=0.1453 val_loss=0.0000 scale=0.0020 norm=0.0009\n",
      "[iter 9600] loss=0.1448 val_loss=0.0000 scale=0.0020 norm=0.0009\n",
      "[iter 9700] loss=0.1446 val_loss=0.0000 scale=0.0020 norm=0.0009\n",
      "[iter 9800] loss=0.1434 val_loss=0.0000 scale=0.0020 norm=0.0009\n",
      "[iter 9900] loss=0.1411 val_loss=0.0000 scale=0.0020 norm=0.0009\n"
     ]
    },
    {
     "data": {
      "text/plain": [
       "<ngboost.ngboost.NGBoost at 0x7f73de35d588>"
      ]
     },
     "execution_count": 22,
     "metadata": {},
     "output_type": "execute_result"
    }
   ],
   "source": [
    "boost = NGBoost(n_estimators = 10000)\n",
    "boost.fit(tr, y_tr)"
   ]
  },
  {
   "cell_type": "code",
   "execution_count": 23,
   "metadata": {},
   "outputs": [
    {
     "data": {
      "text/plain": [
       "1.0319492645127755"
      ]
     },
     "execution_count": 23,
     "metadata": {},
     "output_type": "execute_result"
    }
   ],
   "source": [
    "rmsle(y_te, boost.predict(np.array(te)))"
   ]
  },
  {
   "cell_type": "code",
   "execution_count": 24,
   "metadata": {},
   "outputs": [],
   "source": [
    "X = np.random.rand(1000, 10)\n",
    "w_mu = np.random.rand(10)\n",
    "w_sigma = np.random.rand(10)\n",
    "mu = np.dot(X, w_mu)\n",
    "sigma = np.exp(np.dot(X, w_sigma)) # Lognormal Distribution\n",
    "Y = np.random.rand(1000) * sigma + mu"
   ]
  },
  {
   "cell_type": "code",
   "execution_count": 25,
   "metadata": {
    "scrolled": true
   },
   "outputs": [
    {
     "data": {
      "text/plain": [
       "<matplotlib.axes._subplots.AxesSubplot at 0x7f73dd947550>"
      ]
     },
     "execution_count": 25,
     "metadata": {},
     "output_type": "execute_result"
    },
    {
     "data": {
      "image/png": "[encoded data removed]",
      "text/plain": [
       "<Figure size 432x288 with 1 Axes>"
      ]
     },
     "metadata": {
      "needs_background": "light"
     },
     "output_type": "display_data"
    }
   ],
   "source": [
    "sns.distplot(Y, kde = True, fit = stats.lognorm, fit_kws = {'color':'r'}, axlabel = \"Y\")"
   ]
  },
  {
   "cell_type": "code",
   "execution_count": 26,
   "metadata": {},
   "outputs": [],
   "source": [
    "Xp = pd.DataFrame(X)\n",
    "Xp['10'] = Y\n",
    "tr, te = train_test_split(Xp, test_size = 0.2, random_state = 1)\n",
    "\n",
    "y_tr = np.asarray(tr['10'])\n",
    "tr = np.asarray(tr.drop(['10'], 1))\n",
    "y_te =  np.asarray(te['10'])\n",
    "te = np.asarray(te.drop(['10'], 1))"
   ]
  },
  {
   "cell_type": "code",
   "execution_count": 27,
   "metadata": {
    "scrolled": true
   },
   "outputs": [
    {
     "name": "stdout",
     "output_type": "stream",
     "text": [
      "iter = 1,\t loss = 2.6801127697002203,\t scale = 1,\t grad_norm = 2.8457134668713993\n",
      "iter = 101,\t loss = 2.4115942703042426,\t scale = 1,\t grad_norm = 2.384663600220025\n",
      "iter = 201,\t loss = 2.271669245416992,\t scale = 1,\t grad_norm = 2.1748490050910623\n",
      "iter = 301,\t loss = 2.1669423621649924,\t scale = 1,\t grad_norm = 2.0358194547020347\n",
      "iter = 401,\t loss = 2.086409355712939,\t scale = 1,\t grad_norm = 1.9366592524679114\n",
      "iter = 501,\t loss = 2.0242186923717735,\t scale = 1,\t grad_norm = 1.8606003275132341\n",
      "iter = 601,\t loss = 1.9804322220469168,\t scale = 1,\t grad_norm = 1.8060419271387815\n",
      "iter = 701,\t loss = 1.942361306599624,\t scale = 1,\t grad_norm = 1.760345418086324\n",
      "iter = 801,\t loss = 1.908571107707452,\t scale = 1,\t grad_norm = 1.717826312324756\n",
      "iter = 901,\t loss = 1.8781062870624026,\t scale = 1,\t grad_norm = 1.679505470336781\n",
      "iter = 1001,\t loss = 1.8505935575743597,\t scale = 1,\t grad_norm = 1.6444118789725823\n",
      "iter = 1101,\t loss = 1.8238236995126988,\t scale = 1,\t grad_norm = 1.6086614448447702\n",
      "iter = 1201,\t loss = 1.7981894794432958,\t scale = 1,\t grad_norm = 1.573385842335962\n",
      "iter = 1301,\t loss = 1.7741301444840065,\t scale = 1,\t grad_norm = 1.5421507514288118\n",
      "iter = 1401,\t loss = 1.7498154993138302,\t scale = 1,\t grad_norm = 1.5137911581192889\n",
      "iter = 1501,\t loss = 1.7246122297528472,\t scale = 1,\t grad_norm = 1.4862616093909293\n",
      "iter = 1601,\t loss = 1.6990961807264062,\t scale = 1,\t grad_norm = 1.4586573350063798\n",
      "iter = 1701,\t loss = 1.6740901219127449,\t scale = 1,\t grad_norm = 1.4320006882024494\n",
      "iter = 1801,\t loss = 1.651426585440555,\t scale = 1,\t grad_norm = 1.4086044786672351\n",
      "iter = 1901,\t loss = 1.6276410747103436,\t scale = 1,\t grad_norm = 1.3854553674233177\n",
      "iter = 2001,\t loss = 1.6048297698396428,\t scale = 0.5,\t grad_norm = 0.6819695795997736\n",
      "iter = 2101,\t loss = 1.5838990944091789,\t scale = 1,\t grad_norm = 1.3433530937195304\n",
      "iter = 2201,\t loss = 1.5629739816594352,\t scale = 1,\t grad_norm = 1.3232102756169837\n",
      "iter = 2301,\t loss = 1.5453127617528952,\t scale = 0.5,\t grad_norm = 0.6526605952733645\n",
      "iter = 2401,\t loss = 1.5288155783698851,\t scale = 0.5,\t grad_norm = 0.6442114776428801\n",
      "iter = 2501,\t loss = 1.512609786365514,\t scale = 0.5,\t grad_norm = 0.6364837364901742\n",
      "iter = 2601,\t loss = 1.4971723943438735,\t scale = 0.25,\t grad_norm = 0.3142171145816787\n",
      "iter = 2701,\t loss = 1.4826738000084152,\t scale = 1,\t grad_norm = 1.242372344611712\n",
      "iter = 2801,\t loss = 1.4665864165653033,\t scale = 1,\t grad_norm = 1.2266033688592568\n",
      "iter = 2901,\t loss = 1.4514957383754614,\t scale = 0.5,\t grad_norm = 0.606549382325315\n",
      "iter = 3001,\t loss = 1.4369449846010796,\t scale = 0.25,\t grad_norm = 0.30025336545148834\n",
      "iter = 3101,\t loss = 1.4274738622393215,\t scale = 1,\t grad_norm = 1.1922741699267145\n",
      "iter = 3201,\t loss = 1.4125512517891365,\t scale = 1,\t grad_norm = 1.1796484285877797\n",
      "iter = 3301,\t loss = 1.4022328082972744,\t scale = 0.03125,\t grad_norm = 0.036566096701510925\n",
      "iter = 3401,\t loss = 1.39254695560981,\t scale = 1,\t grad_norm = 1.1605904522022612\n",
      "iter = 3501,\t loss = 1.3771741350002003,\t scale = 0.5,\t grad_norm = 0.5734283444195054\n",
      "iter = 3601,\t loss = 1.3678241434616722,\t scale = 0.0625,\t grad_norm = 0.07124404280235591\n",
      "iter = 3701,\t loss = 1.358676809925227,\t scale = 1,\t grad_norm = 1.131558920478895\n",
      "iter = 3723,\t loss = 1.3555707852871384,\t scale = 7.62939453125e-06,\t grad_norm = 8.6126274431512e-06\n"
     ]
    },
    {
     "data": {
      "text/plain": [
       "<__main__.My_NGBoost at 0x7f73dd818da0>"
      ]
     },
     "execution_count": 27,
     "metadata": {},
     "output_type": "execute_result"
    }
   ],
   "source": [
    "boost = My_NGBoost(n_estimators = 10000)\n",
    "boost.fit(tr, y_tr)"
   ]
  },
  {
   "cell_type": "code",
   "execution_count": 28,
   "metadata": {},
   "outputs": [
    {
     "data": {
      "text/plain": [
       "3.334719603448596"
      ]
     },
     "execution_count": 28,
     "metadata": {},
     "output_type": "execute_result"
    }
   ],
   "source": [
    "rmsle(y_te, boost.predict(np.array(te)))"
   ]
  },
  {
   "cell_type": "code",
   "execution_count": 29,
   "metadata": {},
   "outputs": [
    {
     "data": {
      "text/plain": [
       "<matplotlib.axes._subplots.AxesSubplot at 0x7f73de42f320>"
      ]
     },
     "execution_count": 29,
     "metadata": {},
     "output_type": "execute_result"
    },
    {
     "data": {
      "image/png": "[encoded data removed]",
      "text/plain": [
       "<Figure size 432x288 with 1 Axes>"
      ]
     },
     "metadata": {
      "needs_background": "light"
     },
     "output_type": "display_data"
    }
   ],
   "source": [
    "sns.distplot(y_te, axlabel = \"Y_test\")"
   ]
  },
  {
   "cell_type": "code",
   "execution_count": 30,
   "metadata": {},
   "outputs": [
    {
     "data": {
      "text/plain": [
       "<matplotlib.axes._subplots.AxesSubplot at 0x7f73dd554e80>"
      ]
     },
     "execution_count": 30,
     "metadata": {},
     "output_type": "execute_result"
    },
    {
     "data": {
      "image/png": "[encoded data removed]",
      "text/plain": [
       "<Figure size 432x288 with 1 Axes>"
      ]
     },
     "metadata": {
      "needs_background": "light"
     },
     "output_type": "display_data"
    }
   ],
   "source": [
    "sns.distplot(boost.predict(np.array(te)), axlabel = \"pred_Y_test\")"
   ]
  },
  {
   "cell_type": "code",
   "execution_count": 31,
   "metadata": {
    "scrolled": true
   },
   "outputs": [
    {
     "name": "stdout",
     "output_type": "stream",
     "text": [
      "[iter 0] loss=2.6801 val_loss=0.0000 scale=1.0000 norm=2.8454\n",
      "[iter 100] loss=2.4116 val_loss=0.0000 scale=1.0000 norm=2.3844\n",
      "[iter 200] loss=2.2717 val_loss=0.0000 scale=1.0000 norm=2.1747\n",
      "[iter 300] loss=2.1671 val_loss=0.0000 scale=1.0000 norm=2.0357\n",
      "[iter 400] loss=2.0866 val_loss=0.0000 scale=1.0000 norm=1.9369\n",
      "[iter 500] loss=2.0243 val_loss=0.0000 scale=1.0000 norm=1.8595\n",
      "[iter 600] loss=1.9812 val_loss=0.0000 scale=1.0000 norm=1.8062\n",
      "[iter 700] loss=1.9425 val_loss=0.0000 scale=1.0000 norm=1.7592\n",
      "[iter 800] loss=1.9097 val_loss=0.0000 scale=1.0000 norm=1.7181\n",
      "[iter 900] loss=1.8800 val_loss=0.0000 scale=1.0000 norm=1.6808\n",
      "[iter 1000] loss=1.8532 val_loss=0.0000 scale=0.5000 norm=0.8230\n",
      "[iter 1100] loss=1.8279 val_loss=0.0000 scale=1.0000 norm=1.6130\n",
      "[iter 1200] loss=1.8015 val_loss=0.0000 scale=0.5000 norm=0.7891\n",
      "[iter 1300] loss=1.7789 val_loss=0.0000 scale=1.0000 norm=1.5473\n",
      "[iter 1400] loss=1.7542 val_loss=0.0000 scale=1.0000 norm=1.5179\n",
      "[iter 1500] loss=1.7258 val_loss=0.0000 scale=1.0000 norm=1.4883\n",
      "[iter 1600] loss=1.7003 val_loss=0.0000 scale=1.0000 norm=1.4612\n",
      "[iter 1700] loss=1.6777 val_loss=0.0000 scale=0.5000 norm=0.7185\n",
      "[iter 1800] loss=1.6533 val_loss=0.0000 scale=1.0000 norm=1.4119\n",
      "[iter 1900] loss=1.6302 val_loss=0.0000 scale=0.5000 norm=0.6949\n",
      "[iter 2000] loss=1.6050 val_loss=0.0000 scale=1.0000 norm=1.3655\n",
      "[iter 2100] loss=1.5805 val_loss=0.0000 scale=1.0000 norm=1.3387\n",
      "[iter 2200] loss=1.5581 val_loss=0.0000 scale=0.5000 norm=0.6582\n",
      "[iter 2300] loss=1.5382 val_loss=0.0000 scale=0.5000 norm=0.6484\n",
      "[iter 2400] loss=1.5210 val_loss=0.0000 scale=1.0000 norm=1.2794\n",
      "[iter 2500] loss=1.5013 val_loss=0.0000 scale=1.0000 norm=1.2608\n",
      "[iter 2600] loss=1.4844 val_loss=0.0000 scale=0.2500 norm=0.3112\n",
      "[iter 2700] loss=1.4678 val_loss=0.0000 scale=0.5000 norm=0.6147\n",
      "[iter 2800] loss=1.4508 val_loss=0.0000 scale=0.2500 norm=0.3034\n",
      "[iter 2900] loss=1.4335 val_loss=0.0000 scale=0.5000 norm=0.5994\n",
      "[iter 3000] loss=1.4193 val_loss=0.0000 scale=0.5000 norm=0.5935\n",
      "[iter 3100] loss=1.4053 val_loss=0.0000 scale=0.5000 norm=0.5871\n",
      "[iter 3200] loss=1.3920 val_loss=0.0000 scale=1.0000 norm=1.1621\n",
      "[iter 3300] loss=1.3797 val_loss=0.0000 scale=0.5000 norm=0.5756\n",
      "[iter 3400] loss=1.3670 val_loss=0.0000 scale=0.5000 norm=0.5701\n",
      "[iter 3500] loss=1.3563 val_loss=0.0000 scale=0.5000 norm=0.5655\n",
      "[iter 3600] loss=1.3444 val_loss=0.0000 scale=1.0000 norm=1.1207\n",
      "[iter 3700] loss=1.3352 val_loss=0.0000 scale=0.0156 norm=0.0174\n",
      "[iter 3800] loss=1.3291 val_loss=0.0000 scale=0.2500 norm=0.2770\n",
      "[iter 3900] loss=1.3257 val_loss=0.0000 scale=0.1250 norm=0.1381\n",
      "[iter 4000] loss=1.3233 val_loss=0.0000 scale=0.0078 norm=0.0086\n",
      "[iter 4100] loss=1.3151 val_loss=0.0000 scale=0.1250 norm=0.1370\n",
      "[iter 4200] loss=1.3140 val_loss=0.0000 scale=0.0039 norm=0.0043\n",
      "[iter 4300] loss=1.3065 val_loss=0.0000 scale=1.0000 norm=1.0887\n",
      "[iter 4400] loss=1.3052 val_loss=0.0000 scale=0.0010 norm=0.0011\n",
      "[iter 4500] loss=1.3052 val_loss=0.0000 scale=0.0010 norm=0.0011\n",
      "[iter 4600] loss=1.2933 val_loss=0.0000 scale=0.1250 norm=0.1349\n",
      "[iter 4700] loss=1.2835 val_loss=0.0000 scale=0.0010 norm=0.0010\n",
      "[iter 4800] loss=1.2834 val_loss=0.0000 scale=0.0010 norm=0.0010\n",
      "[iter 4900] loss=1.2834 val_loss=0.0000 scale=0.0010 norm=0.0010\n",
      "[iter 5000] loss=1.2834 val_loss=0.0000 scale=0.0005 norm=0.0005\n",
      "[iter 5100] loss=1.2831 val_loss=0.0000 scale=0.0010 norm=0.0010\n",
      "[iter 5200] loss=1.2829 val_loss=0.0000 scale=0.0010 norm=0.0010\n",
      "[iter 5300] loss=1.2825 val_loss=0.0000 scale=0.0010 norm=0.0010\n",
      "[iter 5400] loss=1.2802 val_loss=0.0000 scale=0.2500 norm=0.2674\n",
      "[iter 5500] loss=1.2754 val_loss=0.0000 scale=0.0156 norm=0.0166\n",
      "[iter 5600] loss=1.2705 val_loss=0.0000 scale=0.0156 norm=0.0166\n",
      "[iter 5700] loss=1.2663 val_loss=0.0000 scale=0.0312 norm=0.0331\n",
      "[iter 5800] loss=1.2654 val_loss=0.0000 scale=0.0005 norm=0.0005\n",
      "[iter 5900] loss=1.2654 val_loss=0.0000 scale=0.0005 norm=0.0005\n",
      "[iter 6000] loss=1.2654 val_loss=0.0000 scale=0.0005 norm=0.0005\n",
      "[iter 6100] loss=1.2654 val_loss=0.0000 scale=0.0078 norm=0.0083\n",
      "[iter 6200] loss=1.2650 val_loss=0.0000 scale=0.0005 norm=0.0005\n",
      "[iter 6300] loss=1.2650 val_loss=0.0000 scale=0.0005 norm=0.0005\n",
      "[iter 6400] loss=1.2650 val_loss=0.0000 scale=0.0005 norm=0.0005\n",
      "[iter 6500] loss=1.2648 val_loss=0.0000 scale=0.0039 norm=0.0041\n",
      "[iter 6600] loss=1.2638 val_loss=0.0000 scale=0.0010 norm=0.0010\n",
      "[iter 6700] loss=1.2636 val_loss=0.0000 scale=0.0010 norm=0.0010\n",
      "[iter 6800] loss=1.2636 val_loss=0.0000 scale=0.0010 norm=0.0010\n",
      "[iter 6900] loss=1.2636 val_loss=0.0000 scale=0.0010 norm=0.0010\n",
      "[iter 7000] loss=1.2637 val_loss=0.0000 scale=0.0010 norm=0.0010\n",
      "[iter 7100] loss=1.2637 val_loss=0.0000 scale=0.0010 norm=0.0010\n",
      "[iter 7200] loss=1.2635 val_loss=0.0000 scale=0.0010 norm=0.0010\n",
      "[iter 7300] loss=1.2629 val_loss=0.0000 scale=0.0010 norm=0.0010\n",
      "[iter 7400] loss=1.2629 val_loss=0.0000 scale=0.0010 norm=0.0010\n",
      "[iter 7500] loss=1.2630 val_loss=0.0000 scale=0.0005 norm=0.0005\n",
      "[iter 7600] loss=1.2630 val_loss=0.0000 scale=0.0005 norm=0.0005\n",
      "[iter 7700] loss=1.2628 val_loss=0.0000 scale=0.0010 norm=0.0010\n",
      "[iter 7800] loss=1.2627 val_loss=0.0000 scale=0.0005 norm=0.0005\n",
      "[iter 7900] loss=1.2615 val_loss=0.0000 scale=0.0010 norm=0.0010\n",
      "[iter 8000] loss=1.2614 val_loss=0.0000 scale=0.0010 norm=0.0010\n",
      "[iter 8100] loss=1.2614 val_loss=0.0000 scale=0.0010 norm=0.0010\n",
      "[iter 8200] loss=1.2612 val_loss=0.0000 scale=0.0010 norm=0.0010\n",
      "[iter 8300] loss=1.2610 val_loss=0.0000 scale=0.0010 norm=0.0010\n",
      "[iter 8400] loss=1.2609 val_loss=0.0000 scale=0.0010 norm=0.0010\n",
      "[iter 8500] loss=1.2609 val_loss=0.0000 scale=0.0010 norm=0.0010\n",
      "[iter 8600] loss=1.2608 val_loss=0.0000 scale=0.0005 norm=0.0005\n",
      "[iter 8700] loss=1.2608 val_loss=0.0000 scale=0.0005 norm=0.0005\n",
      "[iter 8800] loss=1.2608 val_loss=0.0000 scale=0.0005 norm=0.0005\n",
      "[iter 8900] loss=1.2607 val_loss=0.0000 scale=0.0005 norm=0.0005\n",
      "[iter 9000] loss=1.2572 val_loss=0.0000 scale=0.0078 norm=0.0082\n",
      "[iter 9100] loss=1.2565 val_loss=0.0000 scale=0.0039 norm=0.0041\n",
      "[iter 9200] loss=1.2555 val_loss=0.0000 scale=0.0005 norm=0.0005\n",
      "[iter 9300] loss=1.2492 val_loss=0.0000 scale=0.0010 norm=0.0010\n",
      "[iter 9400] loss=1.2478 val_loss=0.0000 scale=0.0010 norm=0.0010\n",
      "[iter 9500] loss=1.2475 val_loss=0.0000 scale=0.0010 norm=0.0010\n",
      "[iter 9600] loss=1.2475 val_loss=0.0000 scale=0.0010 norm=0.0010\n",
      "[iter 9700] loss=1.2462 val_loss=0.0000 scale=0.0005 norm=0.0005\n",
      "[iter 9800] loss=1.2462 val_loss=0.0000 scale=0.0005 norm=0.0005\n",
      "[iter 9900] loss=1.2461 val_loss=0.0000 scale=0.0156 norm=0.0163\n"
     ]
    },
    {
     "data": {
      "text/plain": [
       "<ngboost.ngboost.NGBoost at 0x7f73dd4bbd30>"
      ]
     },
     "execution_count": 31,
     "metadata": {},
     "output_type": "execute_result"
    }
   ],
   "source": [
    "boost = NGBoost(n_estimators = 10000)\n",
    "boost.fit(tr, y_tr)"
   ]
  },
  {
   "cell_type": "code",
   "execution_count": 32,
   "metadata": {},
   "outputs": [
    {
     "data": {
      "text/plain": [
       "3.351472288925565"
      ]
     },
     "execution_count": 32,
     "metadata": {},
     "output_type": "execute_result"
    }
   ],
   "source": [
    "rmsle(y_te, boost.predict(np.array(te)))"
   ]
  }
 ],
 "metadata": {
  "kernelspec": {
   "display_name": "Python 3",
   "language": "python",
   "name": "python3"
  },
  "language_info": {
   "codemirror_mode": {
    "name": "ipython",
    "version": 3
   },
   "file_extension": ".py",
   "mimetype": "text/x-python",
   "name": "python",
   "nbconvert_exporter": "python",
   "pygments_lexer": "ipython3",
   "version": "3.7.3"
  }
 },
 "nbformat": 4,
 "nbformat_minor": 2
}
